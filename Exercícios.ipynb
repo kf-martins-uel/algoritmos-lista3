{
 "cells": [
  {
   "cell_type": "markdown",
   "id": "b6f38c28",
   "metadata": {},
   "source": [
    "## Exercício 1\n",
    "\n",
    "Escreva um programa que leia n números reais e calcule o desvio padrão destes valores. O desvio padrão é dado pela seguinte equação: $s = \\sqrt{\\frac{1}{n-1} \\sum_{i=1}^{n} (x_i - \\overline{x})^2}$, onde $n$ é a quantidade de números, $x_i$ é o i-ésimo valor e $\\overline{x}$ é a média dos valores."
   ]
  },
  {
   "cell_type": "code",
   "execution_count": null,
   "id": "35316106",
   "metadata": {},
   "outputs": [],
   "source": [
    "print(\"Digite um conjunto de valores reais separados por espaço (enter para terminar)\")\n",
    "n = [float(i) for i in input().split()]\n",
    "s = (sum([(i-sum(n)/len(n))**2 for i in n])/(len(n)-1))**(1/2)\n",
    "print(f\"O desvio padrão do conjunto é: {s: .2f}\")"
   ]
  },
  {
   "cell_type": "markdown",
   "id": "9c3c9f0a",
   "metadata": {},
   "source": [
    "## Exercício 2\n",
    "\n",
    "Mostre o que o programa abaixo irá imprimir caso seja executado (execute o programa à mão, sem usar o interpretador Python).\n",
    "\n",
    "```python\n",
    "v1 = []\n",
    "v2 = []\n",
    "n = 123456789  \n",
    "while n != 0:\n",
    "    v1 . append ( n % 10)\n",
    "    n = n // 10\n",
    "    v2 . append (1)\n",
    "\n",
    "for a in v1 [: -1]:\n",
    "    print (a , end = \", \")\n",
    "print ( v1 [ -1])\n",
    "\n",
    "for a in v2 [: -1]:\n",
    "    print (a , end = \", \")\n",
    "print ( v2 [ -1])\n",
    "\n",
    "for i in range (len ( v1 ) ) :\n",
    "    for j in range ( v1 [ i ]) :\n",
    "        v2 [ i ] = 2 * v2 [ i ]\n",
    "\n",
    "for a in v2 :\n",
    "    print (a , end = \", \")\n",
    "print (1)\n",
    "```\n",
    "\n",
    "- Duas listas (v1 e v2) vazias\n",
    "- Uma variável n com valor de 123456789\n",
    "- Primeiro while:\n",
    "  - Enquanto n for difernete de zero, adicionar na lista v1 o resto de da divisão de n po 10 (Um valor entre 0 e 9)\n",
    "    - 123456789 % 10 = 9\n",
    "  - n passa a ser o valor inteiro de n dividido por 10\n",
    "    - 123456789 / 10 = 12345678.9\n",
    "    - 123456789 // 10 = 12345678\n",
    "  - adiciona 1 em v2 em todas iterações\n",
    "- Primeiro for iterando sobre de v1 menos o último elemento:\n",
    "  - imprimir na tela cada valor separado por vírgulas\n",
    "- Imprimir o último elemento de v1\n",
    "- Segundo for iterado em v2 menos o último elemento:\n",
    "  - Sabendo que a lista dois inteira possui apenas 1, imprimá 8 vezes o número 1, separado por vírgulas\n",
    "- Imprimir o último valor de v2, que é 1\n",
    "- Terceiro for iterado em i em um intervalo no tamanho de v1 (v1 tem 9 de tamanho, for ira de 0 até 8):\n",
    "  - Outro for iterando em j de em um intervalo no tamanho do elemento i de v1:\n",
    "    - Elemento i de v2 = 2 * elemento i de v2\n",
    "      - Primeira vez, i = 0, j de 0 até 8 (9 vezes):\n",
    "        - v2[0] = 1*2 = 2\n",
    "        - v2[0] = 2*2 = 4\n",
    "        - v2[0] = 4*2 = 8\n",
    "        - ...\n",
    "        - v2[0] = 256*2 = 512\n",
    "      - Segunda vez, i = 1, j de 0 até 7 (8 vezes):\n",
    "        - v2[1] = 2*2 = 4\n",
    "        - ...\n",
    "        - v2[1] = 128*2 = 256\n",
    "    - O que acontece: Todos elemento são múltiplicado por 2 uma x quantidade de vezes no qual x é igual ao elemento i de v1. Ou seja, estamos falando de 2^v1[i], em que i vai de 9 até 1. Por fim, quando chegar no último elemento de v1 que é 1, o range(1) é igual à 0 e for não itera em 0, fazendo com que o último elemento de v2 continue sendo 2.\n",
    "- Último for:\n",
    "  - Imprimir todos elementos de v2\n",
    "- Imprimir 1\n",
    "- saída esperada:\n",
    "\n",
    "```plaintext\n",
    "9, 8, 7, 6, 5, 4, 3, 2, 1\n",
    "1, 1, 1, 1, 1, 1, 1, 1, 1\n",
    "512, 256, 128, 64, 32, 16, 8, 4, 2, 1\n",
    "```"
   ]
  },
  {
   "cell_type": "markdown",
   "id": "8b49f268",
   "metadata": {},
   "source": [
    "## Exercício 3\n",
    "\n",
    "Escreva um programa que leia duas sequências de n e m valores inteiros, onde n ≤ m, e imprima quantas vezes a primeira sequência ocorre na segunda."
   ]
  },
  {
   "cell_type": "code",
   "execution_count": null,
   "id": "2b017e16",
   "metadata": {},
   "outputs": [],
   "source": [
    "n = [int(i) for i in input().split()]\n",
    "m = [int(i) for i in input().split()]\n",
    "seq = 0\n",
    "for i in range(len(m)-len(n)+1):\n",
    "    if m[i:i+len(n)] == n:\n",
    "        seq+=1\n",
    "print(seq)"
   ]
  },
  {
   "cell_type": "markdown",
   "id": "41121e2c",
   "metadata": {},
   "source": [
    "## Exercício 4\n",
    "\n",
    "Faça um programa que leia dois conjuntos de números inteiros distintos e imprima a interseção destes dois conjuntos (os números presentes em ambos os conjuntos)."
   ]
  },
  {
   "cell_type": "code",
   "execution_count": null,
   "id": "b4799e0f",
   "metadata": {},
   "outputs": [],
   "source": [
    "#solução 1\n",
    "n = set([int(i) for i in input().split()])\n",
    "m = set([int(i) for i in input().split()])\n",
    "\n",
    "print(n.intersection(m))"
   ]
  },
  {
   "cell_type": "code",
   "execution_count": null,
   "id": "154f38e6",
   "metadata": {},
   "outputs": [],
   "source": [
    "#solução 2\n",
    "# Usar set apenas para garantir que não tenha valores iguais repetidos\n",
    "# Se não teria mais um passo para fazer remover os repetidos\n",
    "n = list(set([int(i) for i in input().split()]))\n",
    "m = list(set([int(i) for i in input().split()]))\n",
    "res = []\n",
    "for i in range(min(len(n), len(m))):\n",
    "    if n > m:\n",
    "        if n[i] in m:\n",
    "            res.append(n[i])\n",
    "    else:\n",
    "        if m[i] in n:\n",
    "            res.append(m[i])\n",
    "for i in res:\n",
    "    print(i, end=' ')"
   ]
  },
  {
   "cell_type": "markdown",
   "id": "9d56bdb9",
   "metadata": {},
   "source": [
    "## Exercício 5\n",
    "\n",
    "Faça um programa que leia dois conjuntos de números inteiros distintos e imprima a união destes conjuntos (os números presentes em pelo menos um dos conjuntos)."
   ]
  },
  {
   "cell_type": "code",
   "execution_count": null,
   "id": "9a4ed0a6",
   "metadata": {},
   "outputs": [],
   "source": [
    "n = set([int(i) for i in input().split()])\n",
    "m = set([int(i) for i in input().split()])\n",
    "print(n.union(m))"
   ]
  },
  {
   "cell_type": "markdown",
   "id": "38ce07b5",
   "metadata": {},
   "source": [
    "## Exercício 6\n",
    "\n",
    "Faça um programa que leia duas sequências de números inteiros ordenados e imprima uma sequência com os números ordenados das duas sequências anteriores. Você não deve usar o método sort."
   ]
  },
  {
   "cell_type": "code",
   "execution_count": null,
   "id": "1f2dc16e",
   "metadata": {},
   "outputs": [],
   "source": [
    "# Solução supondo que as listas realmente estarão ordenadas\n",
    "\n",
    "s1 = [int(i) for i in input().split()]\n",
    "s2 = [int(i) for i in input().split()]\n",
    "\n",
    "res = []\n",
    "i, j = 0, 0\n",
    "\n",
    "while i < len(s1) and j < len(s2):\n",
    "    if s1[i] < s2[j]:\n",
    "        res.append(s1[i])\n",
    "        i += 1\n",
    "    else:\n",
    "        res.append(s2[j])\n",
    "        j += 1\n",
    "\n",
    "res.extend(s1[i:])\n",
    "res.extend(s2[j:])\n",
    "\n",
    "print(res)"
   ]
  },
  {
   "cell_type": "code",
   "execution_count": null,
   "id": "aac27234",
   "metadata": {},
   "outputs": [],
   "source": [
    "# Solução supondo que as listas não estarão ordenadas\n",
    "\n",
    "s1 = [int(i) for i in input().split()]\n",
    "s2 = [int(i) for i in input().split()]\n",
    "\n",
    "res = s1+s2\n",
    "\n",
    "for i in range(len(res)):\n",
    "    for j in range(i, len(res)-1):\n",
    "        if res[i] > res[j]:\n",
    "            res[i], res[j] = res[j], res[i]\n",
    "\n",
    "print(res)"
   ]
  },
  {
   "cell_type": "markdown",
   "id": "5f6a5905",
   "metadata": {},
   "source": [
    "## Exercício 7\n",
    "\n",
    "Faça um programa que calcule o produto interno de dois vetores u e v de mesmo tamanho n. O programa deve ler primeiramente o valor de n e em seguida deve ler duas sequências de mesmo tamanho de números reais e salvar cada sequência em uma lista. O programa deve então calcular e imprimir o produto interno dos vetores lidos."
   ]
  },
  {
   "cell_type": "code",
   "execution_count": null,
   "id": "e134d57a",
   "metadata": {},
   "outputs": [],
   "source": [
    "n = int(input())\n",
    "v, u = [],[]\n",
    "# v = [int(i) for i in input().split()]\n",
    "# u = [int(i) for i in input().split()]\n",
    "# if len(v) > n or len(u) > n:\n",
    "#     print(f'Tamanho das listas diferente de {n}')\n",
    "#     exit(1)\n",
    "i=0\n",
    "while i<n:\n",
    "    v.append(int(input()))\n",
    "    i+=1\n",
    "i=0\n",
    "while i<n:\n",
    "    u.append(int(input()))\n",
    "    i+=1\n",
    "\n",
    "print([v[i]*u[i] for i in range(n)])"
   ]
  },
  {
   "cell_type": "markdown",
   "id": "3a04f7bf",
   "metadata": {},
   "source": [
    "## Exercício 8\n",
    "\n",
    "Escreva um programa que leia uma sequência de números inteiros e os salve em uma lista. Em seguida o programa deve ler um outro número inteiro C. O programa deve então encontrar dois números de posições distintas da lista cuja multiplicação seja C e imprimí-los. Caso não existam tais números, o programa deve imprimir uma mensagem correspondente."
   ]
  },
  {
   "cell_type": "code",
   "execution_count": null,
   "id": "b9479de6",
   "metadata": {},
   "outputs": [],
   "source": [
    "lista = [int(i) for i in input().split()]\n",
    "c = int(input())\n",
    "res = {}\n",
    "\n",
    "for i in lista:\n",
    "    target = c / i\n",
    "    if target in lista and target not in res:\n",
    "        res[i] = int(target)\n",
    "        print(f'{i} e {res[i]}')\n",
    "if not res:\n",
    "    print('não existem tais números')"
   ]
  },
  {
   "cell_type": "markdown",
   "id": "10af1ca2",
   "metadata": {},
   "source": [
    "## Exercício 9\n",
    "\n",
    "Escreva um programa que leia uma sequência de n números inteiros positivos maiores que 1 e os salve em uma lista v. O programa deve então imprimir um quadrado de n linhas por n colunas onde em cada posição (i, j), com i, j ∈ {0, . . . , n − 1}, deste quadrado deverá ser impresso 1 caso os números v[i] e v[j] sejam coprimos, e 0 caso contrário."
   ]
  },
  {
   "cell_type": "code",
   "execution_count": null,
   "id": "e758b4bd",
   "metadata": {},
   "outputs": [],
   "source": [
    "v = [int(i) for i in input().split()]\n",
    "coprimos: dict[int, list[int]] = {}\n",
    "\n",
    "for i in v:\n",
    "    for j in v:\n",
    "        a, b = i, j\n",
    "        while b != 0:\n",
    "            a, b = b, a%b\n",
    "        if a == 1:\n",
    "            coprimos[i] = coprimos.get(i, []) + [1]\n",
    "        else:\n",
    "            coprimos[i] = coprimos.get(i, []) + [0]\n",
    "\n",
    "print(f'{'':^5}', end=' ')\n",
    "for i in range(len(v)):\n",
    "    print(f'{f'v[{i}]':^5}', end='  ')\n",
    "print()\n",
    "for i, values in enumerate(v):\n",
    "    print(f'v[{i}]', end='  ')\n",
    "    for valor in coprimos[values]:\n",
    "        print(f'{valor:^5}', end='  ')\n",
    "    print()"
   ]
  }
 ],
 "metadata": {
  "language_info": {
   "name": "python"
  }
 },
 "nbformat": 4,
 "nbformat_minor": 5
}
